{
 "cells": [
  {
   "cell_type": "code",
   "execution_count": 1,
   "metadata": {
    "collapsed": true,
    "ExecuteTime": {
     "end_time": "2024-02-14T04:44:51.669859Z",
     "start_time": "2024-02-14T04:44:47.928483Z"
    }
   },
   "outputs": [
    {
     "data": {
      "text/plain": "{'SEQN': 'id',\n 'year': 'year',\n 'RIAGENDR': 'gender',\n 'RIDAGEYR': 'age_yrs',\n 'RIDAGEMN': 'age_mnths',\n 'RIDRETH1': 'race',\n 'DMDBORN4': 'country_born',\n 'DMDYRUSZ': 'time_in_us',\n 'DMDEDUC2': 'education',\n 'DMDMARTZ': 'married',\n 'RIDEXPRG': 'pregnant',\n 'INDFMPIR': 'income_poverty'}"
     },
     "execution_count": 1,
     "metadata": {},
     "output_type": "execute_result"
    }
   ],
   "source": [
    "from Scripts.setup import demographics_dict\n",
    "\n",
    "demographics_dict()"
   ]
  },
  {
   "cell_type": "code",
   "execution_count": null,
   "outputs": [],
   "source": [],
   "metadata": {
    "collapsed": false
   }
  }
 ],
 "metadata": {
  "kernelspec": {
   "display_name": "Python 3",
   "language": "python",
   "name": "python3"
  },
  "language_info": {
   "codemirror_mode": {
    "name": "ipython",
    "version": 2
   },
   "file_extension": ".py",
   "mimetype": "text/x-python",
   "name": "python",
   "nbconvert_exporter": "python",
   "pygments_lexer": "ipython2",
   "version": "2.7.6"
  }
 },
 "nbformat": 4,
 "nbformat_minor": 0
}
