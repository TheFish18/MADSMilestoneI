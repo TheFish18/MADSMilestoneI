{
 "cells": [
  {
   "cell_type": "markdown",
   "source": [
    "# Main Notebook of Milestone 1 Presentation"
   ],
   "metadata": {
    "collapsed": false
   }
  },
  {
   "cell_type": "code",
   "execution_count": 11,
   "outputs": [],
   "source": [
    "__author__ = \"Josh Fisher, Nick Bermudez, Zhou Jiang\""
   ],
   "metadata": {
    "collapsed": false,
    "ExecuteTime": {
     "end_time": "2024-02-14T06:37:20.191426Z",
     "start_time": "2024-02-14T06:37:20.171919Z"
    }
   }
  },
  {
   "cell_type": "code",
   "execution_count": 12,
   "outputs": [],
   "source": [
    "import os\n",
    "import json\n",
    "import pandas as pd\n",
    "from visualizations import Visualizations"
   ],
   "metadata": {
    "collapsed": false,
    "ExecuteTime": {
     "end_time": "2024-02-14T06:37:20.893731Z",
     "start_time": "2024-02-14T06:37:20.881281Z"
    }
   }
  },
  {
   "cell_type": "code",
   "execution_count": 12,
   "outputs": [],
   "source": [],
   "metadata": {
    "collapsed": false,
    "ExecuteTime": {
     "end_time": "2024-02-14T06:37:21.717109Z",
     "start_time": "2024-02-14T06:37:21.713022Z"
    }
   }
  },
  {
   "cell_type": "markdown",
   "source": [
    "## Data Source\n",
    "\n",
    "We were interested in two of the CDC's National Health and Nutrition Examination Survey (NHANES) datasets. Specifically, the demographics dataset [(link)](https://wwwn.cdc.gov/nchs/nhanes/search/datapage.aspx?Component=Demographics&Cycle=2017-2020) and the total nutrient intakes dataset [(link)](https://wwwn.cdc.gov/nchs/nhanes/search/datapage.aspx?Component=Dietary&Cycle=2017-2020).\n",
    "\n",
    "The demographics survery asks questions regarding demographic factors such as pregnancy status, ratio of family income to poverty, and \"other selected demographic information, such as gender, age, race/Hispanic origin, education, marital status, country of birth, and years of U.S. residence.\" [source](https://wwwn.cdc.gov/Nchs/Nhanes/2017-2018/P_DEMO.htm)\n",
    "\n",
    "\"The objective of the dietary interview component is to obtain detailed dietary intake information from NHANES participants. The dietary intake data are used to estimate the types and amounts of foods and beverages (including all types of water) consumed during the 24-hour period prior to the interview (midnight to midnight), and to estimate intakes of energy, nutrients, and other food components from those foods and beverages.\" [source](https://wwwn.cdc.gov/Nchs/Nhanes/2015-2016/DR1TOT_I.htm)\n",
    "\n",
    "We were able to scrape all available years for both datasets but opted to use only the most recent report as we were interested in current health trends. You can check out the webscraping script at [Scripts/webscrape.py](webscrape.py)\n",
    "\n",
    "The format of each dataset is .xpt and the variable names are encoded. Data is stored in Data/Final/*.xpt and data dictionaries mapping encoded_var: var can be found in same directory"
   ],
   "metadata": {
    "collapsed": false
   }
  },
  {
   "cell_type": "code",
   "execution_count": 13,
   "outputs": [],
   "source": [
    "class NHANESDataFrame:\n",
    "    \"\"\" This class is specific to NHANES dataset and contains cleaning functions, utilities, etc. \"\"\"\n",
    "    def __init__(self, path):\n",
    "        self.path = path\n",
    "\n",
    "    def clean_demographics_df(self):\n",
    "        \"\"\" returns cleaned, renamed, demographics dataframe \"\"\"\n",
    "        demo_d = self.get_demographics_dict()\n",
    "        df = pd.read_sas(self.path)\n",
    "\n",
    "        # filter, only include cols in demo_d.keys()\n",
    "        df = df[list(demo_d.keys())]\n",
    "\n",
    "        # rename to demo_d.valuese()\n",
    "        df = df.rename(columns=demo_d)\n",
    "\n",
    "        # Removing rows where all values are NaN\n",
    "        temp = list(demo_d.values())\n",
    "        temp.remove('id')\n",
    "        return df\n",
    "\n",
    "    def clean_total_nutrients_df(self):\n",
    "        \"\"\" returns cleaned, renamed, total nutrients dataframe \"\"\"\n",
    "        d = {'SEQN': 'id'}\n",
    "        macro_d = self.get_macronutrient_dict()\n",
    "        ess_d = self.get_essential_vitamins_dict()\n",
    "        oth_d = self.get_other_nutrients_dict()\n",
    "\n",
    "        d.update(macro_d)\n",
    "        d.update(ess_d)\n",
    "        d.update(oth_d)\n",
    "\n",
    "        df = pd.read_sas(self.path)\n",
    "\n",
    "        # filter\n",
    "        df = df[list(d.keys())]\n",
    "        # rename\n",
    "        df = df.rename(columns=d)\n",
    "        return df\n",
    "\n",
    "    @staticmethod\n",
    "    def read_combine_clean_demographics_total_nutrients(demographics_path, total_nutrients_path):\n",
    "        \"\"\" Reads demographics and total nutrients, clean both, and merge the two dataframe together \"\"\"\n",
    "        demo_df = NHANESDataFrame(demographics_path).clean_demographics_df()\n",
    "        nuts_df = NHANESDataFrame(total_nutrients_path).clean_total_nutrients_df()\n",
    "        df = demo_df.merge(nuts_df, on='id')\n",
    "        return df\n",
    "\n",
    "    @staticmethod\n",
    "    def get_essential_vitamins_dict():\n",
    "        \"\"\"\n",
    "        https://www.nia.nih.gov/health/vitamins-and-supplements/vitamins-and-minerals-older-adults#:~:text=There%20are%2013%20essential%20vitamins,keep%20the%20body%20working%20properly.\n",
    "        There are 13 essential vitamins —\n",
    "        vitamins A, C, D, E, K,\n",
    "        and the B vitamins (thiamine, riboflavin, niacin, pantothenic acid, biotin, B6, B12, and folate).\n",
    "\n",
    "        no pantothenic acid in NHANES\n",
    "        no biotin in NHANES\n",
    "\n",
    "        :return:\n",
    "            encoded_var: var\n",
    "        \"\"\"\n",
    "        d = {\n",
    "            \"DR1TVARA\": 'vitaminA', \"DR1TVC\": \"vitaminC\", \"DR1TVD\": \"vitaminD\", \"DR1TATOC\": 'vitaminE', \"DR1TVK\": \"vitaminK\",\n",
    "            \"DR1TVB1\": 'thiamine', \"DR1TVB2\": \"riboflavin\", \"DR1TNIAC\": 'niacin', \"DR1TVB6\": \"vitaminB6\",\n",
    "            \"DR1TVB12\": \"vitaminB12\", \"DR1TFOLA\": \"folate\"\n",
    "        }\n",
    "        return d\n",
    "\n",
    "    @staticmethod\n",
    "    def get_macronutrient_dict() -> dict:\n",
    "        \"\"\"\n",
    "        Common macronutrients\n",
    "        :return:\n",
    "            encoded_var: var\n",
    "        \"\"\"\n",
    "        d = {\"DR1TKCAL\": \"kcals\", \"DR1TPROT\": \"protein\", \"DR1TCARB\": \"carbs\", \"DR1TSUGR\": \"sugar\",\n",
    "            \"DR1TTFAT\": \"total_fat\", \"DR1TSFAT\": \"sat_fat\", \"DR1TMFAT\": \"mono_fat\", \"DR1TPFAT\": \"poly_fat\",\n",
    "            \"DR1TCHOL\": \"cholesterol\"}\n",
    "        return d\n",
    "\n",
    "    @staticmethod\n",
    "    def get_other_nutrients_dict() -> dict:\n",
    "        d = {\"DR1TCALC\": \"calcium\", \"DR1TPHOS\": \"phosphorus\", \"DR1TMAGN\": \"magnesium\",\n",
    "             \"DR1TIRON\": \"iron\", \"DR1TZINC\": \"zinc\", \"DR1TCOPP\": \"copper\", \"DR1TSODI\": \"sodium\",\n",
    "             \"DR1TPOTA\": \"potassium\", \"DR1TSELE\": \"selenium\", \"DR1TCAFF\": \"caffeine\",\n",
    "             \"DR1TTHEO\": \"theobromine\", \"DR1TALCO\": \"alcohol\"}\n",
    "        return d\n",
    "\n",
    "    @staticmethod\n",
    "    def get_demographics_dict() -> dict:\n",
    "        with open('../Data/Final/demographics.json') as f:\n",
    "            d = json.load(f)\n",
    "        return d\n",
    "\n"
   ],
   "metadata": {
    "collapsed": false,
    "ExecuteTime": {
     "end_time": "2024-02-14T06:37:22.184476Z",
     "start_time": "2024-02-14T06:37:22.179227Z"
    }
   }
  },
  {
   "cell_type": "markdown",
   "source": [
    "Going from raw XPTs to cleaned csv uses a lot of RAM (the concatenated dfs are about 1.5 gbs each) and I don't trust the jupyter server enough so here are some convenient function that read in pre-cleaned dataframes"
   ],
   "metadata": {
    "collapsed": false
   }
  },
  {
   "cell_type": "code",
   "execution_count": 15,
   "outputs": [],
   "source": [
    "def get_demographics_df():\n",
    "    \"\"\" Convenient function to get cleaned demographics dataframes\"\"\"\n",
    "    df = pd.read_csv(\"../Data/Final/demographics_clean.csv\")\n",
    "    return df\n",
    "\n",
    "def get_total_nutrients_df():\n",
    "    \"\"\" Convenient function to get cleaned total nutrients dataframes\"\"\"\n",
    "    df = pd.read_csv(\"../Data/Final/total_nutrients_clean.csv\")\n",
    "    return df\n",
    "\n",
    "def get_combined_df():\n",
    "    \"\"\" Convenient function to get cleaned and combined demographics and total nutrient file \"\"\"\n",
    "    df = pd.read_csv('../Data/Final/nhanes.csv')\n",
    "    return df.loc[df.year == 2020]\n",
    "\n"
   ],
   "metadata": {
    "collapsed": false,
    "ExecuteTime": {
     "end_time": "2024-02-14T06:40:05.130525Z",
     "start_time": "2024-02-14T06:40:05.100831Z"
    }
   }
  },
  {
   "cell_type": "code",
   "execution_count": 16,
   "outputs": [],
   "source": [
    "# TODO: Add Nick EDA"
   ],
   "metadata": {
    "collapsed": false,
    "ExecuteTime": {
     "end_time": "2024-02-14T06:43:47.021456Z",
     "start_time": "2024-02-14T06:43:47.016639Z"
    }
   }
  },
  {
   "cell_type": "code",
   "execution_count": 17,
   "outputs": [],
   "source": [
    "# TODO: Add Zhou EDA"
   ],
   "metadata": {
    "collapsed": false,
    "ExecuteTime": {
     "end_time": "2024-02-14T06:44:06.553607Z",
     "start_time": "2024-02-14T06:44:06.547633Z"
    }
   }
  },
  {
   "cell_type": "code",
   "execution_count": null,
   "outputs": [],
   "source": [
    "\n",
    "vars = list(NHANESDataFrame.get_other_nutrients_dict().values())\n",
    "vars.remove('alcohol')\n",
    "vars.remove('copper')\n",
    "vars.remove('phosphorus')\n",
    "vars.remove('potassium')\n",
    "vars.remove('caffeine')\n",
    "vars.remove('theobromine')\n",
    "vars = ['caffeine', 'vitaminD', 'vitaminC', *vars]\n",
    "\n",
    "Visualizations.ridgeplot(df)\n"
   ],
   "metadata": {
    "collapsed": false
   }
  }
 ],
 "metadata": {
  "kernelspec": {
   "display_name": "Python 3",
   "language": "python",
   "name": "python3"
  },
  "language_info": {
   "codemirror_mode": {
    "name": "ipython",
    "version": 2
   },
   "file_extension": ".py",
   "mimetype": "text/x-python",
   "name": "python",
   "nbconvert_exporter": "python",
   "pygments_lexer": "ipython2",
   "version": "2.7.6"
  }
 },
 "nbformat": 4,
 "nbformat_minor": 0
}
